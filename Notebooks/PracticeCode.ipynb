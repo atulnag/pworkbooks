{
 "cells": [
  {
   "cell_type": "markdown",
   "metadata": {},
   "source": [
    "# Find smallest number (100 Marks)\n",
    "Find the smallest number with given digit sum s and number of digits d. \n",
    "\n",
    "### Input Format\n",
    "You will be taking digit sum(s) as an integer on one line and number of digits(d) as integer on another line.\n",
    "\n",
    "### Constraints\n",
    "1 < = s < = 81\n",
    "1 < = d < = 9\n",
    "\n",
    "### Output Format\n",
    "You need to print the output to the stdout.\n",
    "\n",
    "### Sample \n",
    "TestCase 1\n",
    "Input\n",
    "9\n",
    "2\n",
    "Output\n",
    "18"
   ]
  },
  {
   "cell_type": "code",
   "execution_count": 12,
   "metadata": {},
   "outputs": [
    {
     "name": "stdout",
     "output_type": "stream",
     "text": [
      "Enter digit sum:9\n",
      "Enter no of digits:3\n",
      "108\n"
     ]
    }
   ],
   "source": [
    "digit_sum = int(input(\"Enter digit sum:\"))\n",
    "nu_digits = int(input(\"Enter no of digits:\"))\n",
    " \n",
    "num_list = []\n",
    " \n",
    "    \n",
    "highest_num = \"\"\n",
    "for n in range(nu_digits):\n",
    "    highest_num += \"9\"\n",
    "highest_num = int(highest_num)\n",
    "num = highest_num\n",
    "while len(str(num)) == nu_digits:\n",
    "    if (sum([int(x) for x in list(str(num)) if int(x) in list(range(1,10))]) == digit_sum):\n",
    "        num_list.append(num)\n",
    "    num -= 1\n",
    "print(num_list[-1])"
   ]
  },
  {
   "cell_type": "code",
   "execution_count": 9,
   "metadata": {},
   "outputs": [
    {
     "data": {
      "text/plain": [
       "[9, 9]"
      ]
     },
     "execution_count": 9,
     "metadata": {},
     "output_type": "execute_result"
    }
   ],
   "source": [
    "for x in list(str)"
   ]
  }
 ],
 "metadata": {
  "kernelspec": {
   "display_name": "Python 3",
   "language": "python",
   "name": "python3"
  },
  "language_info": {
   "codemirror_mode": {
    "name": "ipython",
    "version": 3
   },
   "file_extension": ".py",
   "mimetype": "text/x-python",
   "name": "python",
   "nbconvert_exporter": "python",
   "pygments_lexer": "ipython3",
   "version": "3.6.5"
  }
 },
 "nbformat": 4,
 "nbformat_minor": 2
}
